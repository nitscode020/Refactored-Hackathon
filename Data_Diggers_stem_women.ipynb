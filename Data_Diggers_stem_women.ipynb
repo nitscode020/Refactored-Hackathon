{
 "cells": [
  {
   "cell_type": "markdown",
   "metadata": {
    "tags": [
     "s1",
     "content"
    ]
   },
   "source": [
    "\n",
    "                \n",
    "## EDA for the Women in STEM dataset \n",
    "                \n",
    "### History\n",
    "            \n",
    "Data is originally from American Community Survey 2010-2012 Public Use Microdata Series. The dataset consists of 75 STEM major studies divided into 5 categories. It also gives the number of men and women in each major along with the median salary and the proportion of women(ShareWomen) in each STEM major.\n",
    "\n",
    "### Excercise\n",
    "Read the data from \"https://github.com/fivethirtyeight/data/blob/master/college-majors/women-stem.csv\" into variable 'women_stem' and print top 5 rows.\n",
    "\n"
   ]
  },
  {
   "cell_type": "code",
   "execution_count": 187,
   "metadata": {
    "collapsed": true,
    "tags": [
     "s1",
     "ce"
    ]
   },
   "outputs": [],
   "source": [
    "import pandas as pd"
   ]
  },
  {
   "cell_type": "markdown",
   "metadata": {
    "tags": [
     "s1",
     "hint"
    ]
   },
   "source": [
    "Use read_csv from pandas"
   ]
  },
  {
   "cell_type": "code",
   "execution_count": 164,
   "metadata": {
    "tags": [
     "s1",
     "ans"
    ]
   },
   "outputs": [],
   "source": [
    "import pandas as pd\n",
    "women_stem=pd.read_csv(\"https://raw.githubusercontent.com/fivethirtyeight/data/master/college-majors/women-stem.csv\")\n",
    "women_stem_head=women_stem.head()"
   ]
  },
  {
   "cell_type": "code",
   "execution_count": 165,
   "metadata": {
    "tags": [
     "s1",
     "hid"
    ]
   },
   "outputs": [
    {
     "name": "stdout",
     "output_type": "stream",
     "text": [
      "continue\n"
     ]
    }
   ],
   "source": [
    "#this is assertion block which verifies the solution.\n",
    "import pandas as pd\n",
    "try:\n",
    "    def verify_answer():\n",
    "        \"\"\"\n",
    "        enter your verification code here.\n",
    "        return true if your checks pass\n",
    "        eg: \n",
    "        if above_user_answer_var > 100: \n",
    "            return True\n",
    "        else:\n",
    "            return False\n",
    "        \"\"\"\n",
    "        women_stem=pd.read_csv(\"https://raw.githubusercontent.com/fivethirtyeight/data/master/college-majors/women-stem.csv\")\n",
    "        women_stem_head1=women_stem.head()\n",
    "        if women_stem_head.equals(women_stem_head1): \n",
    "            return True\n",
    "        else:\n",
    "            return False\n",
    "    ref_assert_var = verify_answer()\n",
    "except Exception as e:\n",
    "    print('Your assertion block throws error: ' + str(e))\n",
    "else:\n",
    "    if ref_assert_var:\n",
    "        print('continue')\n",
    "    else:\n",
    "        print('The answer did not pass the test.')"
   ]
  },
  {
   "cell_type": "markdown",
   "metadata": {
    "tags": [
     "s2",
     "content"
    ]
   },
   "source": [
    "\n",
    "\n",
    "## Data Visualization\n",
    "\n",
    "Let's start by looking at relationships among the variables.\n",
    "                \n",
    "### Scatter Plot\n",
    "Lets look at the relationship between median salary and share of women.\n",
    "            \n",
    "### Excercise\n",
    "Plot a scatter plot between ShareWomen and Median.\n"
   ]
  },
  {
   "cell_type": "code",
   "execution_count": 196,
   "metadata": {
    "collapsed": true,
    "tags": [
     "s2",
     "ce"
    ]
   },
   "outputs": [],
   "source": [
    "#"
   ]
  },
  {
   "cell_type": "markdown",
   "metadata": {
    "tags": [
     "s2",
     "hint"
    ]
   },
   "source": [
    "use plot.scatter()"
   ]
  },
  {
   "cell_type": "code",
   "execution_count": 167,
   "metadata": {
    "tags": [
     "s2",
     "ans"
    ]
   },
   "outputs": [
    {
     "data": {
      "image/png": "[encoded data removed]",
      "text/plain": [
       "<matplotlib.figure.Figure at 0x7f9bd6f4dbe0>"
      ]
     },
     "metadata": {},
     "output_type": "display_data"
    }
   ],
   "source": [
    "graph=women_stem.plot.scatter(x='Median',y='ShareWomen')"
   ]
  },
  {
   "cell_type": "code",
   "execution_count": 168,
   "metadata": {
    "scrolled": true,
    "tags": [
     "s2",
     "hid"
    ]
   },
   "outputs": [
    {
     "name": "stdout",
     "output_type": "stream",
     "text": [
      "continue\n"
     ]
    }
   ],
   "source": [
    "#this is assertion block which verifies the solution.\n",
    "try:\n",
    "    def verify_answer():\n",
    "        \"\"\"\n",
    "        enter your verification code here.\n",
    "        return true if your checks pass\n",
    "        eg: \n",
    "        if above_user_answer_var > 100: \n",
    "            return True\n",
    "        else:\n",
    "            return False\n",
    "        \"\"\"\n",
    "        if 1==1: \n",
    "            return True\n",
    "        else:\n",
    "            return False\n",
    "    ref_assert_var = verify_answer()\n",
    "except Exception as e:\n",
    "    print('Your assertion block throws error: ' + str(e))\n",
    "else:\n",
    "    if ref_assert_var:\n",
    "        print('continue')\n",
    "    else:\n",
    "        print('The answer did not pass the test.')"
   ]
  },
  {
   "cell_type": "markdown",
   "metadata": {
    "tags": [
     "s3",
     "content"
    ]
   },
   "source": [
    "### Scatter Plot Conclusion\n",
    "As median income increases share of women decreases.\n",
    "\n",
    "\n",
    "### Bar Chart\n",
    "Let's Construct the Bar chart to understand relationship between effect of 'Major Category' on number of men and women.\n",
    "\n",
    "### Excercise\n",
    "1. Use sum() of number of men and women group by 'Major Category' on 'women_stem' and assign it to women_stem1  \n",
    "2. Use plot() to costruct a bar chart of women_stem1. Ensure xticks are horizontal.\n"
   ]
  },
  {
   "cell_type": "code",
   "execution_count": 197,
   "metadata": {
    "collapsed": true,
    "tags": [
     "s3",
     "ce"
    ]
   },
   "outputs": [],
   "source": [
    "#"
   ]
  },
  {
   "cell_type": "markdown",
   "metadata": {
    "tags": [
     "s3",
     "hint"
    ]
   },
   "source": [
    "use women_stem.groupby(by=\"Major_category)\n",
    "use women_stem1.plot(,rot=0)"
   ]
  },
  {
   "cell_type": "code",
   "execution_count": 189,
   "metadata": {
    "tags": [
     "s3",
     "ans"
    ]
   },
   "outputs": [
    {
     "data": {
      "text/plain": [
       "<matplotlib.axes._subplots.AxesSubplot at 0x7f9bd6c9c550>"
      ]
     },
     "execution_count": 189,
     "metadata": {},
     "output_type": "execute_result"
    },
    {
     "data": {
      "image/png": "[encoded data removed]",
      "text/plain": [
       "<matplotlib.figure.Figure at 0x7f9bdc9472b0>"
      ]
     },
     "metadata": {},
     "output_type": "display_data"
    }
   ],
   "source": [
    "women_stem1=women_stem.groupby(by=\"Major_category\")[\"Women\",\"Men\"].sum()\n",
    "women_stem1.plot(kind='bar', stacked=False, figsize=[16,6], colormap='winter', rot=0)"
   ]
  },
  {
   "cell_type": "code",
   "execution_count": 171,
   "metadata": {
    "tags": [
     "s3",
     "hid"
    ]
   },
   "outputs": [
    {
     "name": "stdout",
     "output_type": "stream",
     "text": [
      "continue\n"
     ]
    }
   ],
   "source": [
    "#this is assertion block which verifies the solution.\n",
    "\n",
    "try:\n",
    "    def verify_answer():\n",
    "        \"\"\"\n",
    "        enter your verification code here.\n",
    "        return true if your checks pass\n",
    "        eg: \n",
    "        if above_user_answer_var > 100: \n",
    "            return True\n",
    "        else:\n",
    "            return False\n",
    "        \"\"\"\n",
    "        data=women_stem.groupby(by=\"Major_category\")[\"Women\",\"Men\"].sum()\n",
    "        if data.equals(women_stem1):\n",
    "            return True\n",
    "        else:\n",
    "            return False    \n",
    "    ref_assert_var = verify_answer()\n",
    "except Exception as e:\n",
    "    print('Your assertion block throws error: ' + str(e))\n",
    "else:\n",
    "    if ref_assert_var:\n",
    "        print('continue')\n",
    "    else:\n",
    "        print('The answer did not pass the test.')"
   ]
  },
  {
   "cell_type": "markdown",
   "metadata": {
    "tags": [
     "s4",
     "content"
    ]
   },
   "source": [
    "### Bar Graph Conclusion\n",
    "Share of Women is higher in Health and Biology sectors.\n",
    "\n",
    "\n",
    "\n",
    "## Dummy Variables\n",
    "Dummy variables are basically represent categorical variables which are used in statistical techniques. Categorical variables are  converted to DUmmy variables. Please refer to sessions on dummy variable on refactored.ai. \n",
    "                \n",
    "### Excercise\n",
    "Use Pandas getdummies() to generate dummies for 'Major_category' and assign it to variable 'Major_category_dummies'\n",
    "Use dataframe.rename() to rename the columns of 'Major_category_dummies' with spaces in the name to remove spaces.\n",
    "use pandas concat() on women_stem and assign to women_stem_dummies.\n"
   ]
  },
  {
   "cell_type": "code",
   "execution_count": 192,
   "metadata": {
    "collapsed": true,
    "tags": [
     "s4",
     "ce"
    ]
   },
   "outputs": [],
   "source": [
    "#"
   ]
  },
  {
   "cell_type": "markdown",
   "metadata": {
    "tags": [
     "s4",
     "hint"
    ]
   },
   "source": [
    "pd.get_dummies()\n",
    "use axis=1 in concat()"
   ]
  },
  {
   "cell_type": "code",
   "execution_count": 172,
   "metadata": {
    "collapsed": true,
    "tags": [
     "s4",
     "ans"
    ]
   },
   "outputs": [],
   "source": [
    "Major_category_dummies=pd.get_dummies(women_stem['Major_category'])\n",
    "Major_category_dummies=Major_category_dummies.rename(columns={'Biology & Life Science':'Bio','Computers & Mathematics':'Comp'})\n",
    "women_stem_dummies=pd.concat([women_stem,Major_category_dummies],axis=1)"
   ]
  },
  {
   "cell_type": "code",
   "execution_count": 173,
   "metadata": {
    "tags": [
     "s4",
     "hid"
    ]
   },
   "outputs": [
    {
     "name": "stdout",
     "output_type": "stream",
     "text": [
      "continue\n"
     ]
    }
   ],
   "source": [
    "#this is assertion block which verifies the solution.\n",
    "\n",
    "try:\n",
    "    def verify_answer():\n",
    "        \"\"\"\n",
    "        enter your verification code here.\n",
    "        return true if your checks pass\n",
    "        eg: \n",
    "        if above_user_answer_var > 100: \n",
    "            return True\n",
    "        else:\n",
    "            return False\n",
    "        \"\"\"\n",
    "        Major_category_dummies1=pd.get_dummies(women_stem['Major_category'])\n",
    "        Major_category_dummies1=Major_category_dummies1.rename(columns={'Biology & Life Science':'Bio','Computers & Mathematics':'Comp'})\n",
    "        women_stem_dummies1=pd.concat([women_stem,Major_category_dummies1],axis=1)\n",
    "        if women_stem_dummies.equals(women_stem_dummies1): \n",
    "            return True\n",
    "        else:\n",
    "            return False\n",
    "\n",
    "    ref_assert_var = verify_answer()\n",
    "except Exception as e:\n",
    "    print('Your assertion block throws error: ' + str(e))\n",
    "else:\n",
    "    if ref_assert_var:\n",
    "        print('continue')\n",
    "    else:\n",
    "        print('The answer did not pass the test.')"
   ]
  },
  {
   "cell_type": "markdown",
   "metadata": {
    "tags": [
     "s5",
     "content"
    ]
   },
   "source": [
    "## Split the Dataset    \n",
    "In order to run and test regression model, we need to split our dataset into 'train' and 'test' datasets. We can use dataframs sample() function to achieve this.\n",
    "\n",
    "### Excercise\n",
    "         Use DataFrame.sample() and dataframe.drop() to generate train and test data at 80:20 ratio on random seed=12345.\n",
    "         Assign train dataset to train_data variable and test dataset to test_data.\n",
    "         Print top 5 train and test dataset\n"
   ]
  },
  {
   "cell_type": "code",
   "execution_count": 190,
   "metadata": {
    "tags": [
     "s5",
     "ce"
    ]
   },
   "outputs": [
    {
     "data": {
      "text/html": [
       "<div>\n",
       "<table border=\"1\" class=\"dataframe\">\n",
       "  <thead>\n",
       "    <tr style=\"text-align: right;\">\n",
       "      <th></th>\n",
       "      <th>Rank</th>\n",
       "      <th>Major_code</th>\n",
       "      <th>Major</th>\n",
       "      <th>Major_category</th>\n",
       "      <th>Total</th>\n",
       "      <th>Men</th>\n",
       "      <th>Women</th>\n",
       "      <th>ShareWomen</th>\n",
       "      <th>Median</th>\n",
       "    </tr>\n",
       "  </thead>\n",
       "  <tbody>\n",
       "    <tr>\n",
       "      <th>19</th>\n",
       "      <td>20</td>\n",
       "      <td>2502</td>\n",
       "      <td>ELECTRICAL ENGINEERING TECHNOLOGY</td>\n",
       "      <td>Engineering</td>\n",
       "      <td>11565</td>\n",
       "      <td>8181</td>\n",
       "      <td>3384</td>\n",
       "      <td>0.292607</td>\n",
       "      <td>52000</td>\n",
       "    </tr>\n",
       "  </tbody>\n",
       "</table>\n",
       "</div>"
      ],
      "text/plain": [
       "    Rank  Major_code                              Major Major_category  Total  \\\n",
       "19    20        2502  ELECTRICAL ENGINEERING TECHNOLOGY    Engineering  11565   \n",
       "\n",
       "     Men  Women  ShareWomen  Median  \n",
       "19  8181   3384    0.292607   52000  "
      ]
     },
     "execution_count": 190,
     "metadata": {},
     "output_type": "execute_result"
    }
   ],
   "source": [
    "women_stem.sample()"
   ]
  },
  {
   "cell_type": "markdown",
   "metadata": {
    "tags": [
     "s5",
     "hint"
    ]
   },
   "source": [
    "use women_stem.sample() and women_stem.drop()"
   ]
  },
  {
   "cell_type": "code",
   "execution_count": 174,
   "metadata": {
    "tags": [
     "s5",
     "ans"
    ]
   },
   "outputs": [
    {
     "name": "stdout",
     "output_type": "stream",
     "text": [
      "    Rank  Major_code                           Major Major_category  Total  \\\n",
      "1      2        2416  MINING AND MINERAL ENGINEERING    Engineering    756   \n",
      "7      8        2414          MECHANICAL ENGINEERING    Engineering  91227   \n",
      "10    11        2407            COMPUTER ENGINEERING    Engineering  41542   \n",
      "11    12        5008               MATERIALS SCIENCE    Engineering   4279   \n",
      "14    15        2402          BIOLOGICAL ENGINEERING    Engineering   8925   \n",
      "\n",
      "      Men  Women  ShareWomen  Median  Bio  Comp  Engineering  Health  \\\n",
      "1     679     77    0.101852   75000    0     0            1       0   \n",
      "7   80320  10907    0.119559   60000    0     0            1       0   \n",
      "10  33258   8284    0.199413   60000    0     0            1       0   \n",
      "11   2949   1330    0.310820   60000    0     0            1       0   \n",
      "14   6062   2863    0.320784   57100    0     0            1       0   \n",
      "\n",
      "    Physical Sciences  \n",
      "1                   0  \n",
      "7                   0  \n",
      "10                  0  \n",
      "11                  0  \n",
      "14                  0  \n",
      "    Rank  Major_code                                    Major  \\\n",
      "4      5        2418                      NUCLEAR ENGINEERING   \n",
      "32    33        3701                      APPLIED MATHEMATICS   \n",
      "44    45        2599   MISCELLANEOUS ENGINEERING TECHNOLOGIES   \n",
      "40    41        6104               MEDICAL ASSISTING SERVICES   \n",
      "69    70        6106  HEALTH AND MEDICAL PREPARATORY PROGRAMS   \n",
      "\n",
      "             Major_category  Total   Men  Women  ShareWomen  Median  Bio  \\\n",
      "4               Engineering   2573  2200    373    0.144967   65000    0   \n",
      "32  Computers & Mathematics   4939  2794   2145    0.434298   45000    0   \n",
      "44              Engineering   8804  7043   1761    0.200023   40000    0   \n",
      "40                   Health  11123   803  10320    0.927807   42000    0   \n",
      "69                   Health  12740  5521   7219    0.566641   33500    0   \n",
      "\n",
      "    Comp  Engineering  Health  Physical Sciences  \n",
      "4      0            1       0                  0  \n",
      "32     1            0       0                  0  \n",
      "44     0            1       0                  0  \n",
      "40     0            0       1                  0  \n",
      "69     0            0       1                  0  \n"
     ]
    }
   ],
   "source": [
    "train_data=women_stem_dummies.sample(frac=0.8,random_state=12345)\n",
    "test_data=women_stem_dummies.drop(train_data.index)\n",
    "print(test_data.head())\n",
    "print(train_data.head())"
   ]
  },
  {
   "cell_type": "code",
   "execution_count": 175,
   "metadata": {
    "tags": [
     "s5",
     "hid"
    ]
   },
   "outputs": [
    {
     "name": "stdout",
     "output_type": "stream",
     "text": [
      "continue\n"
     ]
    }
   ],
   "source": [
    "#this is assertion block which verifies the solution.\n",
    "\n",
    "try:\n",
    "    def verify_answer():\n",
    "        \"\"\"\n",
    "        enter your verification code here.\n",
    "        return true if your checks pass\n",
    "        eg: \n",
    "        if above_user_answer_var > 100: \n",
    "            return True\n",
    "        else:\n",
    "            return False\n",
    "        \"\"\"\n",
    "        train_data1=women_stem_dummies.sample(frac=0.8,random_state=12345)\n",
    "        test_data1=women_stem_dummies.drop(train_data.index)\n",
    "        if train_data.equals(train_data1): \n",
    "            return True\n",
    "        else:\n",
    "            return Fals\n",
    "    ref_assert_var = verify_answer()\n",
    "except Exception as e:\n",
    "    print('Your assertion block throws error: ' + str(e))\n",
    "else:\n",
    "    if ref_assert_var:\n",
    "        print('continue')\n",
    "    else:\n",
    "        print('The answer did not pass the test.')"
   ]
  },
  {
   "cell_type": "markdown",
   "metadata": {
    "tags": [
     "s6",
     "content"
    ]
   },
   "source": [
    "\n",
    "## Fit Linear Regression \n",
    "Now let's use some staistical techniques to understand the effect of individual columns on the ShareWomen. From earlier EAD, we can say that important variables impacting ShareWomen are 'Major-Categroy' and 'Median' salary\n",
    "    \n",
    "### Linear-Linear model\n",
    " Linear=-linear model can be represented Y = AX + C.\n",
    " Use statsmodels.formula.api module to model multi-variate linear regression models.\n",
    " \n",
    "### Excercise\n",
    "Use statsmodels.formula.api module's ols() to run a linear regression on dependent variable 'ShareWomen' and independent variables ('Women','Median,'Major_category'). Assign the output of ols() to stem_model variable and print regression summary using summary() on stem_model. Use stem_model.bic() to get BIC  of the regression and assign it to variable bic and print it.\n"
   ]
  },
  {
   "cell_type": "code",
   "execution_count": 193,
   "metadata": {
    "collapsed": true,
    "tags": [
     "s6",
     "ce"
    ]
   },
   "outputs": [],
   "source": [
    "#"
   ]
  },
  {
   "cell_type": "markdown",
   "metadata": {
    "tags": [
     "s6",
     "hint"
    ]
   },
   "source": [
    "use sm.ols() and stem_model.bic()"
   ]
  },
  {
   "cell_type": "code",
   "execution_count": 177,
   "metadata": {
    "tags": [
     "s6",
     "ans"
    ]
   },
   "outputs": [
    {
     "name": "stdout",
     "output_type": "stream",
     "text": [
      "                            OLS Regression Results                            \n",
      "==============================================================================\n",
      "Dep. Variable:             ShareWomen   R-squared:                       0.795\n",
      "Model:                            OLS   Adj. R-squared:                  0.772\n",
      "Method:                 Least Squares   F-statistic:                     34.81\n",
      "Date:                Sun, 29 Oct 2017   Prob (F-statistic):           7.22e-17\n",
      "Time:                        00:50:30   Log-Likelihood:                 54.184\n",
      "No. Observations:                  61   AIC:                            -94.37\n",
      "Df Residuals:                      54   BIC:                            -79.59\n",
      "Df Model:                           6                                         \n",
      "Covariance Type:            nonrobust                                         \n",
      "===============================================================================\n",
      "                  coef    std err          t      P>|t|      [0.025      0.975]\n",
      "-------------------------------------------------------------------------------\n",
      "Intercept       0.5774      0.068      8.493      0.000       0.441       0.714\n",
      "Women         5.44e-07   4.53e-07      1.202      0.235   -3.63e-07    1.45e-06\n",
      "Bio             0.0602      0.046      1.307      0.197      -0.032       0.153\n",
      "Comp           -0.1935      0.052     -3.710      0.000      -0.298      -0.089\n",
      "Health          0.2510      0.049      5.101      0.000       0.152       0.350\n",
      "Engineering    -0.2231      0.046     -4.834      0.000      -0.316      -0.131\n",
      "Median      -1.756e-06   1.41e-06     -1.243      0.219   -4.59e-06    1.08e-06\n",
      "==============================================================================\n",
      "Omnibus:                        0.258   Durbin-Watson:                   2.357\n",
      "Prob(Omnibus):                  0.879   Jarque-Bera (JB):                0.289\n",
      "Skew:                           0.145   Prob(JB):                        0.866\n",
      "Kurtosis:                       2.827   Cond. No.                     3.18e+05\n",
      "==============================================================================\n",
      "\n",
      "Warnings:\n",
      "[1] Standard Errors assume that the covariance matrix of the errors is correctly specified.\n",
      "[2] The condition number is large, 3.18e+05. This might indicate that there are\n",
      "strong multicollinearity or other numerical problems.\n",
      "-79.5916412855\n"
     ]
    }
   ],
   "source": [
    "import statsmodels.formula.api as sm\n",
    "\n",
    "stem_model=sm.ols(formula=\"ShareWomen~Women+Bio+Comp+Health+Engineering+Median\",data=train_data).fit()\n",
    "print(stem_model.summary())\n",
    "bic=stem_model.bic\n",
    "print(bic)\n",
    "\n",
    "\n"
   ]
  },
  {
   "cell_type": "code",
   "execution_count": 178,
   "metadata": {
    "tags": [
     "s6",
     "hid"
    ]
   },
   "outputs": [
    {
     "name": "stdout",
     "output_type": "stream",
     "text": [
      "continue\n"
     ]
    }
   ],
   "source": [
    "#this is assertion block which verifies the solution.\n",
    "\n",
    "try:\n",
    "    def verify_answer():\n",
    "        \"\"\"\n",
    "        enter your verification code here.\n",
    "        return true if your checks pass\n",
    "        eg: \n",
    "        if above_user_answer_var > 100: \n",
    "            return True\n",
    "        else:\n",
    "            return False\n",
    "        \"\"\"\n",
    "        bic1=-80\n",
    "        if (round(bic)==bic1): \n",
    "            return True\n",
    "        else:\n",
    "            return False\n",
    "    ref_assert_var = verify_answer()\n",
    "except Exception as e:\n",
    "    print('Your assertion block throws error: ' + str(e))\n",
    "else:\n",
    "    if ref_assert_var:\n",
    "        print('continue')\n",
    "    else:\n",
    "        print('The answer did not pass the test.')"
   ]
  },
  {
   "cell_type": "markdown",
   "metadata": {
    "tags": [
     "s7",
     "content"
    ]
   },
   "source": [
    "\n",
    "\n",
    "## Predict\n",
    "predict() can be used to predict the value of dependent variable for independent variables in test dataset\n",
    "                \n",
    "### Excercise\n",
    "            \n",
    "Use predict() on the model of stem_model and assing predicted values to variable 'Y_HAT'.\n"
   ]
  },
  {
   "cell_type": "code",
   "execution_count": 194,
   "metadata": {
    "collapsed": true,
    "tags": [
     "s7",
     "ce"
    ]
   },
   "outputs": [],
   "source": [
    "#"
   ]
  },
  {
   "cell_type": "markdown",
   "metadata": {
    "tags": [
     "s7",
     "hint"
    ]
   },
   "source": [
    "use stem_model.predict"
   ]
  },
  {
   "cell_type": "code",
   "execution_count": 179,
   "metadata": {
    "tags": [
     "s7",
     "ans"
    ]
   },
   "outputs": [],
   "source": [
    "Y_HAT=stem_model.predict(test_data)"
   ]
  },
  {
   "cell_type": "code",
   "execution_count": 180,
   "metadata": {
    "tags": [
     "s7",
     "hid"
    ]
   },
   "outputs": [
    {
     "name": "stdout",
     "output_type": "stream",
     "text": [
      "continue\n"
     ]
    }
   ],
   "source": [
    "#this is assertion block which verifies the solution.\n",
    "\n",
    "try:\n",
    "    def verify_answer():\n",
    "        \"\"\"\n",
    "        enter your verification code here.\n",
    "        return true if your checks pass\n",
    "        eg: \n",
    "        if above_user_answer_var > 100: \n",
    "            return True\n",
    "        else:\n",
    "            return False\n",
    "        \"\"\"\n",
    "        women_share_pre1=stem_model.predict(test_data)\n",
    "        if Y_HAT.equals(women_share_pre1): \n",
    "            return True\n",
    "        else:\n",
    "            return False\n",
    "    ref_assert_var = verify_answer()\n",
    "except Exception as e:\n",
    "    print('Your assertion block throws error: ' + str(e))\n",
    "else:\n",
    "    if ref_assert_var:\n",
    "        print('continue')\n",
    "    else:\n",
    "        print('The answer did not pass the test.')\n",
    "\n",
    "\n",
    "\n",
    "\n",
    "\n",
    "\n",
    "\n",
    "\n",
    "\n",
    "\n",
    "\n",
    "\n",
    "\n"
   ]
  },
  {
   "cell_type": "markdown",
   "metadata": {
    "tags": [
     "s8",
     "content"
    ]
   },
   "source": [
    "\n",
    "\n",
    "## Model Evaluation Metrics for Regression \n",
    "\n",
    "For classification problems, we have only used classification accuracy as our evaluation metric. What metrics can we used for regression problems?\n",
    "\n",
    "Mean Absolute Error (MAE) is the mean of the absolute value of the errors:\n",
    "\n",
    "Mean Squared Error (MSE) is the mean of the squared errors:\n",
    "\n",
    "Root Mean Squared Error (RMSE) is the square root of the mean of the squared errors:\n",
    "\n",
    "Let's learn how to calculate these. We can use metrics module of sklearn package.\n",
    "\n",
    "define true and predicted response values\n",
    "y_true = [100, 50, 30, 20]\n",
    "y_pred = [90, 50, 50, 30]\n",
    "\n",
    "calculate MAE, MSE, RMSE\n",
    "print(metrics.mean_absolute_error(y_true, y_pred))\n",
    "print(metrics.mean_squared_error(y_true, y_pred))\n",
    "print(np.sqrt(metrics.mean_squared_error(y_true, y_pred)))\n",
    "\n",
    "### Excerice\n",
    "Calculate MAE, MSE and RMSE for our model 'stem_model'. \n",
    "Use mean_absolute_error, mean_squared_error to get MAE,MSE and RMSE and assign them to variables Pred_Test on predicted_data test_data and print it\n"
   ]
  },
  {
   "cell_type": "code",
   "execution_count": 191,
   "metadata": {
    "collapsed": true,
    "tags": [
     "s8",
     "ce"
    ]
   },
   "outputs": [],
   "source": [
    "from sklearn import metrics\n",
    "import numpy as np"
   ]
  },
  {
   "cell_type": "markdown",
   "metadata": {
    "tags": [
     "s8",
     "hint"
    ]
   },
   "source": [
    "metrics.mean_absolute_error(test_data[\"ShareWomen\"], Y_HAT))"
   ]
  },
  {
   "cell_type": "code",
   "execution_count": 195,
   "metadata": {
    "tags": [
     "s8",
     "ans"
    ]
   },
   "outputs": [
    {
     "name": "stdout",
     "output_type": "stream",
     "text": [
      "0.00990814933954\n"
     ]
    }
   ],
   "source": [
    "from sklearn import metrics\n",
    "import numpy as np\n",
    "\n",
    "MSE_Test=Pred_Test=metrics.mean_squared_error(test_data[\"ShareWomen\"], Y_HAT)\n",
    "\n",
    "### Train Data MSE\n",
    "\n",
    "TRAIN_HAT=stem_model.predict(train_data)\n",
    "MSE_Train=Pred_Test=metrics.mean_squared_error(train_data[\"ShareWomen\"], TRAIN_HAT)\n",
    "print(MSE_Train)\n",
    "\n"
   ]
  },
  {
   "cell_type": "code",
   "execution_count": 183,
   "metadata": {
    "tags": [
     "s8",
     "hid"
    ]
   },
   "outputs": [
    {
     "name": "stdout",
     "output_type": "stream",
     "text": [
      "continue\n"
     ]
    }
   ],
   "source": [
    "#this is assertion block which verifies the solution.\n",
    "\n",
    "try:\n",
    "    def verify_answer():\n",
    "        \"\"\"\n",
    "        enter your verification code here.\n",
    "        return true if your checks pass\n",
    "        eg: \n",
    "        if above_user_answer_var > 100: \n",
    "            return True\n",
    "        else:\n",
    "            return False\n",
    "        \"\"\"\n",
    "        a=metrics.mean_squared_error(test_data[\"ShareWomen\"], Y_HAT)\n",
    "        if (a==MSE_Test): \n",
    "            return True\n",
    "        else:\n",
    "            return False\n",
    "    ref_assert_var = verify_answer()\n",
    "except Exception as e:\n",
    "    print('Your assertion block throws error: ' + str(e))\n",
    "else:\n",
    "    if ref_assert_var:\n",
    "        print('continue')\n",
    "    else:\n",
    "        print('The answer did not pass the test.')"
   ]
  },
  {
   "cell_type": "markdown",
   "metadata": {
    "tags": [
     "s9",
     "content"
    ]
   },
   "source": [
    "\n",
    "\n",
    "## Predictive Model Analysis\n",
    "                \n",
    "## Exercise:\n",
    "            \n",
    "Use pairplot functionality of seaborn module to determine the pairplot of Women and Median on predicted dependent variable calculated previously \n",
    "Use pairplot functionality of seaborn module to determine the pairplot of Women and Median on train data's dependent variable \n",
    "\n",
    "##### The difference between the two will help determine the accuracy of the model\n"
   ]
  },
  {
   "cell_type": "code",
   "execution_count": null,
   "metadata": {
    "tags": [
     "s9",
     "ce"
    ]
   },
   "outputs": [],
   "source": []
  },
  {
   "cell_type": "markdown",
   "metadata": {
    "tags": [
     "s9",
     "hint"
    ]
   },
   "source": [
    " use pairplot function of seaborn"
   ]
  },
  {
   "cell_type": "code",
   "execution_count": 185,
   "metadata": {
    "tags": [
     "s9",
     "ans"
    ]
   },
   "outputs": [
    {
     "data": {
      "text/plain": [
       "<seaborn.axisgrid.PairGrid at 0x7f9bd6df2ba8>"
      ]
     },
     "execution_count": 185,
     "metadata": {},
     "output_type": "execute_result"
    },
    {
     "data": {
      "image/png": "[encoded data removed]",
      "text/plain": [
       "<matplotlib.figure.Figure at 0x7f9bd6df2630>"
      ]
     },
     "metadata": {},
     "output_type": "display_data"
    },
    {
     "data": {
      "image/png": "[encoded data removed]",
      "text/plain": [
       "<matplotlib.figure.Figure at 0x7f9bd6d1c9b0>"
      ]
     },
     "metadata": {},
     "output_type": "display_data"
    }
   ],
   "source": [
    "import seaborn as sb\n",
    "\n",
    "train_data['Pred']=TRAIN_HAT\n",
    "sb.pairplot(train_data,x_vars=['Women','Median'],y_vars=['Pred'],size=7,aspect=0.7,kind='reg')\n",
    "sb.pairplot(train_data,x_vars=['Women','Median'],y_vars=['ShareWomen'],size=7,aspect=0.7,kind='reg')"
   ]
  }
 ],
 "metadata": {
  "executed_sections": [],
  "kernelspec": {
   "display_name": "Python 3",
   "language": "python",
   "name": "python3"
  },
  "language_info": {
   "codemirror_mode": {
    "name": "ipython",
    "version": 3
   },
   "file_extension": ".py",
   "mimetype": "text/x-python",
   "name": "python",
   "nbconvert_exporter": "python",
   "pygments_lexer": "ipython3",
   "version": "3.5.2"
  }
 },
 "nbformat": 4,
 "nbformat_minor": 2
}